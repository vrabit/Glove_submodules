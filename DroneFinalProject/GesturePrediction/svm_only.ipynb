{
 "cells": [
  {
   "cell_type": "code",
   "execution_count": 1,
   "id": "b2e81391",
   "metadata": {},
   "outputs": [],
   "source": [
    "import pandas as pd\n",
    "#import matplotlib.pyplot as plt\n",
    "\n",
    "from sklearn.model_selection import train_test_split\n",
    "from sklearn.multiclass import OneVsOneClassifier\n",
    "\n",
    "from sklearn.model_selection import train_test_split\n",
    "from sklearn.model_selection import cross_val_score\n",
    "\n",
    "from sklearn.metrics import accuracy_score\n",
    "\n",
    "from sklearn.pipeline import make_pipeline\n",
    "from sklearn.preprocessing import StandardScaler\n",
    "from sklearn.svm import SVC\n",
    "\n",
    "import pickle\n"
   ]
  },
  {
   "cell_type": "code",
   "execution_count": 2,
   "id": "f0cf09bc",
   "metadata": {},
   "outputs": [],
   "source": [
    "hand_df = pd.read_csv(\"data/sensorFile (2).csv\", na_values=['?'])\n",
    "hand_df_test = pd.read_csv(\"data/Newglove_person1.csv\", na_values=['?'])\n",
    "\n",
    "\n",
    "hand_df = hand_df.fillna(0)\n",
    "hand_df = hand_df.drop([0])\n",
    "hand_df = hand_df.drop(['GyroX','GyroY','GyroZ'], axis = 1)\n",
    "\n",
    "hand_df_test = hand_df_test.fillna(0)\n",
    "hand_df_test = hand_df_test.drop([0])\n",
    "hand_df_test = hand_df_test.drop(['GyroX','GyroY','GyroZ'], axis = 1)\n",
    "\n",
    "y = hand_df['Gesture']\n",
    "X = hand_df.drop(['Gesture'], axis = 1)\n",
    "\n",
    "y_test = hand_df_test['Gesture']\n",
    "X_test = hand_df_test.drop(['Gesture'], axis = 1)\n"
   ]
  },
  {
   "cell_type": "code",
   "execution_count": 3,
   "id": "72fc02d5",
   "metadata": {},
   "outputs": [
    {
     "name": "stdout",
     "output_type": "stream",
     "text": [
      "Scaler are pickled and saved to standard_scaler.pkl\n"
     ]
    },
    {
     "name": "stderr",
     "output_type": "stream",
     "text": [
      "C:\\Users\\Doe\\anaconda3\\lib\\site-packages\\sklearn\\base.py:457: UserWarning: X has feature names, but StandardScaler was fitted without feature names\n",
      "  warnings.warn(\n",
      "C:\\Users\\Doe\\anaconda3\\lib\\site-packages\\sklearn\\base.py:457: UserWarning: X has feature names, but StandardScaler was fitted without feature names\n",
      "  warnings.warn(\n"
     ]
    }
   ],
   "source": [
    "from sklearn.preprocessing import  StandardScaler\n",
    "import pickle\n",
    "\n",
    "standard_scaler = StandardScaler()\n",
    "standard_scaler.fit(X.values)\n",
    "\n",
    "# Save the scalers\n",
    "standard_file_path = \"standard_scaler.pkl\"\n",
    "\n",
    "\n",
    "with open(standard_file_path, 'wb') as f:\n",
    "    pickle.dump(standard_scaler, f)\n",
    "\n",
    "print(\"Scaler are pickled and saved to\", standard_file_path)\n",
    "X_standardized = standard_scaler.transform(X)\n",
    "\n",
    "with open(standard_file_path, 'rb') as f:\n",
    "    loaded_standard_scaler = pickle.load(f)\n",
    "\n",
    "X_test_standardized = loaded_standard_scaler.transform(X_test)"
   ]
  },
  {
   "cell_type": "code",
   "execution_count": 4,
   "id": "fd0ebb78",
   "metadata": {},
   "outputs": [
    {
     "name": "stdout",
     "output_type": "stream",
     "text": [
      "\n",
      "Train Set Accuracy with Best Hyperparameters: 0.9998750156230471\n",
      "\n",
      "Test Set Accuracy with Best Hyperparameters: 0.9998590556730091\n"
     ]
    }
   ],
   "source": [
    "#SVM with best params\n",
    "\n",
    "X_test = X_test_standardized\n",
    "\n",
    "best_params = {'C': 10, 'kernel': 'rbf', 'gamma': 'scale'}\n",
    "SVM = OneVsOneClassifier(SVC(**best_params))\n",
    "\n",
    "SVM.fit(X_standardized,y)\n",
    "\n",
    "\n",
    "y_pred_train = SVM.predict(X_standardized)\n",
    "y_pred_test = SVM.predict(X_test)\n",
    "train_accuracy = accuracy_score(y, y_pred_train)\n",
    "test_accuracy = accuracy_score(y_test, y_pred_test)\n",
    "print(f\"\\nTrain Set Accuracy with Best Hyperparameters: {train_accuracy}\")\n",
    "print(f\"\\nTest Set Accuracy with Best Hyperparameters: {test_accuracy}\")"
   ]
  },
  {
   "cell_type": "code",
   "execution_count": 5,
   "id": "744932f8",
   "metadata": {},
   "outputs": [
    {
     "name": "stdout",
     "output_type": "stream",
     "text": [
      "SVM is pickled and saved to best_SVM_1v1_model.pkl\n"
     ]
    }
   ],
   "source": [
    "#save the model\n",
    "file_path = \"best_SVM_1v1_model.pkl\"\n",
    "\n",
    "with open(file_path, 'wb') as f:\n",
    "    pickle.dump(SVM, f)\n",
    "\n",
    "print(\"SVM is pickled and saved to\", file_path)"
   ]
  },
  {
   "cell_type": "code",
   "execution_count": null,
   "id": "7d0afe5f",
   "metadata": {},
   "outputs": [],
   "source": []
  }
 ],
 "metadata": {
  "kernelspec": {
   "display_name": "Python 3 (ipykernel)",
   "language": "python",
   "name": "python3"
  },
  "language_info": {
   "codemirror_mode": {
    "name": "ipython",
    "version": 3
   },
   "file_extension": ".py",
   "mimetype": "text/x-python",
   "name": "python",
   "nbconvert_exporter": "python",
   "pygments_lexer": "ipython3",
   "version": "3.8.18"
  }
 },
 "nbformat": 4,
 "nbformat_minor": 5
}
